{
 "cells": [
  {
   "cell_type": "markdown",
   "id": "d6940fad",
   "metadata": {},
   "source": [
    "# Linear Regression Template\n",
    "<b>Linear Regression + MLR</b> | Using Sci-Kit Learn"
   ]
  },
  {
   "cell_type": "code",
   "execution_count": null,
   "id": "8823d64b",
   "metadata": {},
   "outputs": [],
   "source": [
    "# importing packages\n",
    "\n",
    "import pandas as pd\n",
    "import numpy as np\n",
    "import matplotlib\n",
    "import matplotlib.pyplot as plt\n",
    "import seaborn as sns\n",
    "from sklearn.model_selection import train_test_split\n",
    "from sklearn.linear_model import LinearRegression\n",
    "from sklearn.metrics import mean_squared_error, mean_absolute_error\n",
    "from sklearn import preprocessing"
   ]
  },
  {
   "cell_type": "code",
   "execution_count": null,
   "id": "48c8de3e",
   "metadata": {},
   "outputs": [],
   "source": [
    "# importing data\n",
    "df = pd.read_csv('file_name.csv')\n",
    "df.drop('No', inplace = True,axis=1)\n",
    "\n",
    "print(df.head())\n",
    "print(df.columns)"
   ]
  },
  {
   "cell_type": "markdown",
   "id": "e1b2329b",
   "metadata": {},
   "source": [
    "### Visualize Data"
   ]
  },
  {
   "cell_type": "code",
   "execution_count": null,
   "id": "ced83bb6",
   "metadata": {},
   "outputs": [],
   "source": [
    "# scatterplots of data\n",
    "sns.scatterplot(x='x_var',\n",
    "                y='y_var', data=df)"
   ]
  },
  {
   "cell_type": "markdown",
   "id": "76000462",
   "metadata": {},
   "source": [
    "### Seperating Data (Independent + Dependent Vars | Training + Test Data)"
   ]
  },
  {
   "cell_type": "code",
   "execution_count": null,
   "id": "cf242847",
   "metadata": {},
   "outputs": [],
   "source": [
    "# feature variables\n",
    "X = df.drop('Y house price of unit area',axis= 1)\n",
    "# target variables\n",
    "y = df['Y house price of unit area']\n",
    "\n",
    "print(X)\n",
    "print(y)\n"
   ]
  },
  {
   "cell_type": "code",
   "execution_count": null,
   "id": "df79c039",
   "metadata": {},
   "outputs": [],
   "source": [
    "# seperating training and test data\n",
    "X_train, X_test, y_train, y_test = train_test_split(\n",
    "    X, y, test_size=0.2, random_state=101)"
   ]
  },
  {
   "cell_type": "markdown",
   "id": "3bc16271",
   "metadata": {},
   "source": [
    "### Create Model"
   ]
  },
  {
   "cell_type": "code",
   "execution_count": null,
   "id": "a8d53a80",
   "metadata": {},
   "outputs": [],
   "source": [
    "# create regression model\n",
    "model = LinearRegression()\n",
    "# fit the model\n",
    "model.fit(X_train,y_train)\n",
    "\n",
    "# making predictions\n",
    "#predictions = model.predict(X_test)"
   ]
  },
  {
   "cell_type": "markdown",
   "id": "c8225c8c",
   "metadata": {},
   "source": [
    "### Evaluate Model"
   ]
  },
  {
   "cell_type": "code",
   "execution_count": null,
   "id": "689015cb",
   "metadata": {},
   "outputs": [],
   "source": []
  },
  {
   "cell_type": "markdown",
   "id": "4d074d2f",
   "metadata": {},
   "source": [
    "### Visualize Model (if possible)"
   ]
  },
  {
   "cell_type": "code",
   "execution_count": null,
   "id": "bc481ae4",
   "metadata": {},
   "outputs": [],
   "source": []
  }
 ],
 "metadata": {
  "kernelspec": {
   "display_name": "Python 3",
   "language": "python",
   "name": "python3"
  },
  "language_info": {
   "codemirror_mode": {
    "name": "ipython",
    "version": 3
   },
   "file_extension": ".py",
   "mimetype": "text/x-python",
   "name": "python",
   "nbconvert_exporter": "python",
   "pygments_lexer": "ipython3",
   "version": "3.7.0"
  }
 },
 "nbformat": 4,
 "nbformat_minor": 5
}
