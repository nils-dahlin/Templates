{
 "cells": [
  {
   "cell_type": "markdown",
   "id": "85ef576f",
   "metadata": {},
   "source": [
    "# <b>PCA With Sci-Kit Learn</b>\n",
    "Feature Compression | Explaining variance of data through smaller # of features created with weighted values for original features\n",
    "\n",
    "* Dataset, column names, etc. will need to be changed for the specific datastet"
   ]
  },
  {
   "cell_type": "code",
   "execution_count": null,
   "id": "48589fc2",
   "metadata": {},
   "outputs": [],
   "source": [
    "# import packages\n",
    "import numpy as np\n",
    "import pandas as pd\n",
    "import matplotlib.pyplot as plt\n",
    "import seaborn as sns\n",
    "\n",
    "from sklearn.preprocessing import StandardScaler\n",
    "from sklearn.decomposition import PCA\n",
    "from sklearn.model_selection import train_test_split\n",
    "from sklearn.linear_model import LogisticRegression\n",
    "from sklearn.metrics import confusion_matrix, classification_report"
   ]
  },
  {
   "cell_type": "code",
   "execution_count": null,
   "id": "0f1447b8",
   "metadata": {},
   "outputs": [],
   "source": [
    "# load data\n",
    "df = pd.read_csv('data.csv')\n",
    "df.head()"
   ]
  },
  {
   "cell_type": "markdown",
   "id": "9ad46231",
   "metadata": {},
   "source": [
    "### Cleaning and Seperating Data into Training and Testing Sets"
   ]
  },
  {
   "cell_type": "code",
   "execution_count": null,
   "id": "237c512c",
   "metadata": {},
   "outputs": [],
   "source": [
    "# data cleaning\n",
    "\n",
    "# drop unnecessary columns\n",
    "df.drop(['column', 'column'], axis=1, inplace=True)"
   ]
  },
  {
   "cell_type": "code",
   "execution_count": null,
   "id": "ee421f02",
   "metadata": {},
   "outputs": [],
   "source": [
    "# seperate features and target\n",
    "X = df.drop('target', axis=1)\n",
    "y = df['target']"
   ]
  }
 ],
 "metadata": {
  "kernelspec": {
   "display_name": "Python 3",
   "language": "python",
   "name": "python3"
  },
  "language_info": {
   "name": "python",
   "version": "3.7.0"
  }
 },
 "nbformat": 4,
 "nbformat_minor": 5
}
